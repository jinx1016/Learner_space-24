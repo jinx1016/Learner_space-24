{
 "cells": [
  {
   "attachments": {},
   "cell_type": "markdown",
   "metadata": {},
   "source": [
    "### 22b2439_linear_regression"
   ]
  },
  {
   "cell_type": "code",
   "execution_count": 129,
   "metadata": {},
   "outputs": [],
   "source": [
    "import numpy as np\n",
    "import pandas as pd\n",
    "import matplotlib.pyplot as plt\n",
    "from sklearn.preprocessing import LabelEncoder"
   ]
  },
  {
   "cell_type": "code",
   "execution_count": 130,
   "metadata": {},
   "outputs": [],
   "source": [
    "data = pd.read_excel(r\"C:\\Users\\ajinkya\\OneDrive - Indian Institute of Technology Bombay\\Desktop\\Codes_all\\SOC_codes\\LS-24\\Linear regression\\Training data.xlsx\")\n",
    "x_train = np.array(data.iloc[:,0:8])\n",
    "y_train = np.array(data.iloc[:,8]).reshape(-1,1)\n",
    "#print(x_train.shape[1])\n",
    "#print(y_train)"
   ]
  },
  {
   "cell_type": "code",
   "execution_count": 131,
   "metadata": {},
   "outputs": [],
   "source": [
    "def feature_changing(x_train):\n",
    "    le = LabelEncoder()\n",
    "    for i in range(x_train.shape[1]):\n",
    "        if x_train[:,i].dtype == object:\n",
    "            x_train[:,i] = le.fit_transform(x_train[:,i])\n",
    "    return x_train"
   ]
  },
  {
   "cell_type": "code",
   "execution_count": 132,
   "metadata": {},
   "outputs": [],
   "source": [
    "x_train = feature_changing(x_train)\n",
    "#print(x_train)"
   ]
  },
  {
   "cell_type": "code",
   "execution_count": 133,
   "metadata": {},
   "outputs": [],
   "source": [
    "def z_score(x_train):\n",
    "    x_mean = np.mean(x_train, axis=0)\n",
    "    x_std = np.std(x_train, axis=0)\n",
    "    x_train = (x_train - x_mean)/x_std\n",
    "    return x_train, x_std, x_mean\n",
    "\n",
    "x_train = x_train.astype(np.float64)\n",
    "x_train , x_std, x_mean = z_score(x_train)\n"
   ]
  },
  {
   "cell_type": "code",
   "execution_count": 134,
   "metadata": {},
   "outputs": [],
   "source": [
    "np.random.seed(2147483647)\n",
    "w = np.random.randn(x_train.shape[1],1)\n",
    "b = np.random.randn(1)"
   ]
  },
  {
   "cell_type": "code",
   "execution_count": 135,
   "metadata": {},
   "outputs": [],
   "source": [
    "# cost fn\n",
    "def cost(x_train,y_train,w,b):\n",
    "    m = x_train.shape[0]\n",
    "    predictions = np.dot(x_train,w)+b\n",
    "    loss = (1/2*m)*np.sum((predictions-y_train)**2)\n",
    "    return loss\n",
    "\n",
    "    "
   ]
  },
  {
   "cell_type": "code",
   "execution_count": 136,
   "metadata": {},
   "outputs": [],
   "source": [
    "# gradient descent\n",
    "\n",
    "def gradient_descent(x_train, y_train, w, b, learning_rate = 0.01, iterations = 1000):\n",
    "    m = x_train.shape[0]\n",
    "    for i  in range(iterations):\n",
    "        predictions = np.dot(x_train,w)+b\n",
    "        dw = (1/m)*np.dot(x_train.T,(predictions - y_train))\n",
    "        db = (1/m)*np.sum(predictions - y_train)\n",
    "        w = w - learning_rate*dw\n",
    "        b = b - learning_rate*db\n",
    "    return w,b\n",
    "        \n",
    "     "
   ]
  },
  {
   "cell_type": "code",
   "execution_count": 137,
   "metadata": {},
   "outputs": [],
   "source": [
    "# training the model\n",
    "\n",
    "old_cost = float('inf')\n",
    "\n",
    "while True:\n",
    "    current_cost = cost(x_train,y_train,w,b)\n",
    "    if abs(old_cost - current_cost) <0.0001:\n",
    "        break\n",
    "    old_cost = current_cost\n",
    "    w,b = gradient_descent(x_train,y_train,w,b)"
   ]
  },
  {
   "cell_type": "code",
   "execution_count": 138,
   "metadata": {},
   "outputs": [],
   "source": [
    "# load and preprocess data\n",
    "\n",
    "x_predict = pd.read_excel(r'C:\\Users\\ajinkya\\OneDrive - Indian Institute of Technology Bombay\\Desktop\\Codes_all\\SOC_codes\\LS-24\\Linear regression\\Test data.xlsx').iloc[:,0:8].to_numpy()\n",
    "x_predict = feature_changing(x_predict)\n",
    "x_predict = (x_predict-x_mean)/x_std\n",
    "ans = pd.read_excel(r'C:\\Users\\ajinkya\\OneDrive - Indian Institute of Technology Bombay\\Desktop\\Codes_all\\SOC_codes\\LS-24\\Linear regression\\Test data.xlsx').iloc[:,8].to_numpy()\n"
   ]
  },
  {
   "cell_type": "code",
   "execution_count": 139,
   "metadata": {},
   "outputs": [
    {
     "name": "stdout",
     "output_type": "stream",
     "text": [
      "Congratulations, your accuracy is 100.0%\n"
     ]
    }
   ],
   "source": [
    "# predict and evaluate\n",
    "y_predict = np.dot(x_predict,w)+b\n",
    "\n",
    "accuracy = 0\n",
    "for dim in range(len(ans)):\n",
    "    if abs(y_predict[dim]-ans[dim])<0.5:\n",
    "        accuracy += 1\n",
    "accuracy = round(accuracy*100/200.0,2)\n",
    "ok = 'Congratulations' if accuracy > 95 else 'optimization required' \n",
    "print(f\"{ok}, your accuracy is {accuracy}%\")"
   ]
  }
 ],
 "metadata": {
  "kernelspec": {
   "display_name": ".venv",
   "language": "python",
   "name": "python3"
  },
  "language_info": {
   "codemirror_mode": {
    "name": "ipython",
    "version": 3
   },
   "file_extension": ".py",
   "mimetype": "text/x-python",
   "name": "python",
   "nbconvert_exporter": "python",
   "pygments_lexer": "ipython3",
   "version": "3.11.7"
  },
  "orig_nbformat": 4
 },
 "nbformat": 4,
 "nbformat_minor": 2
}
